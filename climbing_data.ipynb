{
 "cells": [
  {
   "attachments": {},
   "cell_type": "markdown",
   "metadata": {},
   "source": [
    "# Climbing Data Analysis May 2022-May 2023"
   ]
  },
  {
   "attachments": {},
   "cell_type": "markdown",
   "metadata": {},
   "source": [
    "## Overview of the Project"
   ]
  },
  {
   "attachments": {},
   "cell_type": "markdown",
   "metadata": {},
   "source": [
    "FILL IN LATER"
   ]
  },
  {
   "attachments": {},
   "cell_type": "markdown",
   "metadata": {},
   "source": [
    "## Importing the Required Packages"
   ]
  },
  {
   "cell_type": "code",
   "execution_count": 1,
   "metadata": {},
   "outputs": [],
   "source": [
    "import numpy as np\n",
    "import matplotlib.pyplot as plt\n",
    "import pandas as pd\n",
    "import seaborn as sns\n",
    "from sklearn.model_selection import train_test_split"
   ]
  },
  {
   "attachments": {},
   "cell_type": "markdown",
   "metadata": {},
   "source": [
    "## Importing the Dataset"
   ]
  },
  {
   "cell_type": "code",
   "execution_count": 2,
   "metadata": {},
   "outputs": [],
   "source": [
    "# The dataset is currently stored as a CSV on GitHub (as of May 2023)\n",
    "# I am importing it from a local file since I may add to the dataset and am working mostly offline.\n",
    "df = pd.read_csv(\"/Users/zemblanity/portfolio_projects/climbing/climbing_log/Climbing_Data_CSV.csv\")"
   ]
  },
  {
   "attachments": {},
   "cell_type": "markdown",
   "metadata": {},
   "source": [
    "## Examining at the Table"
   ]
  },
  {
   "cell_type": "code",
   "execution_count": 3,
   "metadata": {},
   "outputs": [
    {
     "data": {
      "text/html": [
       "<div>\n",
       "<style scoped>\n",
       "    .dataframe tbody tr th:only-of-type {\n",
       "        vertical-align: middle;\n",
       "    }\n",
       "\n",
       "    .dataframe tbody tr th {\n",
       "        vertical-align: top;\n",
       "    }\n",
       "\n",
       "    .dataframe thead th {\n",
       "        text-align: right;\n",
       "    }\n",
       "</style>\n",
       "<table border=\"1\" class=\"dataframe\">\n",
       "  <thead>\n",
       "    <tr style=\"text-align: right;\">\n",
       "      <th></th>\n",
       "      <th>Date</th>\n",
       "      <th>Type_of_Climbing</th>\n",
       "      <th>Country</th>\n",
       "      <th>Location</th>\n",
       "      <th>Grade</th>\n",
       "      <th>Attempts</th>\n",
       "      <th>Completed</th>\n",
       "      <th>Crux_Move_Type</th>\n",
       "      <th>Repeat</th>\n",
       "      <th>Terrain</th>\n",
       "    </tr>\n",
       "  </thead>\n",
       "  <tbody>\n",
       "    <tr>\n",
       "      <th>0</th>\n",
       "      <td>5/24/22</td>\n",
       "      <td>Bouldering</td>\n",
       "      <td>United States</td>\n",
       "      <td>Gravity Vault Montclair</td>\n",
       "      <td>V9</td>\n",
       "      <td>3</td>\n",
       "      <td>yes</td>\n",
       "      <td>crimp</td>\n",
       "      <td>no</td>\n",
       "      <td>overhang</td>\n",
       "    </tr>\n",
       "    <tr>\n",
       "      <th>1</th>\n",
       "      <td>5/24/22</td>\n",
       "      <td>Bouldering</td>\n",
       "      <td>United States</td>\n",
       "      <td>Gravity Vault Montclair</td>\n",
       "      <td>V7</td>\n",
       "      <td>2</td>\n",
       "      <td>yes</td>\n",
       "      <td>crimp</td>\n",
       "      <td>no</td>\n",
       "      <td>unknown</td>\n",
       "    </tr>\n",
       "    <tr>\n",
       "      <th>2</th>\n",
       "      <td>6/24/22</td>\n",
       "      <td>Bouldering</td>\n",
       "      <td>United States</td>\n",
       "      <td>Gravity Vault Montclair</td>\n",
       "      <td>V8</td>\n",
       "      <td>8</td>\n",
       "      <td>no</td>\n",
       "      <td>sloper</td>\n",
       "      <td>no</td>\n",
       "      <td>overhang</td>\n",
       "    </tr>\n",
       "    <tr>\n",
       "      <th>3</th>\n",
       "      <td>6/24/22</td>\n",
       "      <td>Bouldering</td>\n",
       "      <td>United States</td>\n",
       "      <td>Gravity Vault Montclair</td>\n",
       "      <td>V6</td>\n",
       "      <td>1</td>\n",
       "      <td>yes</td>\n",
       "      <td>crimp</td>\n",
       "      <td>no</td>\n",
       "      <td>unknown</td>\n",
       "    </tr>\n",
       "    <tr>\n",
       "      <th>4</th>\n",
       "      <td>7/18/22</td>\n",
       "      <td>Bouldering</td>\n",
       "      <td>United States</td>\n",
       "      <td>Gravity Vault Montclair</td>\n",
       "      <td>V7</td>\n",
       "      <td>4</td>\n",
       "      <td>yes</td>\n",
       "      <td>jug</td>\n",
       "      <td>no</td>\n",
       "      <td>unknown</td>\n",
       "    </tr>\n",
       "  </tbody>\n",
       "</table>\n",
       "</div>"
      ],
      "text/plain": [
       "      Date Type_of_Climbing        Country                 Location Grade  \\\n",
       "0  5/24/22       Bouldering  United States  Gravity Vault Montclair    V9   \n",
       "1  5/24/22       Bouldering  United States  Gravity Vault Montclair    V7   \n",
       "2  6/24/22       Bouldering  United States  Gravity Vault Montclair    V8   \n",
       "3  6/24/22       Bouldering  United States  Gravity Vault Montclair    V6   \n",
       "4  7/18/22       Bouldering  United States  Gravity Vault Montclair    V7   \n",
       "\n",
       "   Attempts Completed Crux_Move_Type Repeat    Terrain  \n",
       "0         3       yes          crimp      no  overhang  \n",
       "1         2       yes          crimp      no   unknown  \n",
       "2         8        no         sloper      no  overhang  \n",
       "3         1       yes          crimp      no   unknown  \n",
       "4         4       yes            jug      no   unknown  "
      ]
     },
     "execution_count": 3,
     "metadata": {},
     "output_type": "execute_result"
    }
   ],
   "source": [
    "df.head()"
   ]
  },
  {
   "cell_type": "code",
   "execution_count": 4,
   "metadata": {},
   "outputs": [
    {
     "data": {
      "text/plain": [
       "(1839, 10)"
      ]
     },
     "execution_count": 4,
     "metadata": {},
     "output_type": "execute_result"
    }
   ],
   "source": [
    "df.shape # (1839, 10)"
   ]
  },
  {
   "cell_type": "code",
   "execution_count": 5,
   "metadata": {},
   "outputs": [
    {
     "data": {
      "text/plain": [
       "Gravity Vault Montclair     1001\n",
       "Kilter Board                 489\n",
       "Klattercentret Malmö         113\n",
       "Element Bouldering            32\n",
       "Moon Board                    31\n",
       "Beta Boulder South            30\n",
       "Method Climbing Gym           20\n",
       "GOAT Climbing Gym             19\n",
       "Gravity Vault Hoboken         18\n",
       "Heavens Gate                  17\n",
       "Boulderwelt West              16\n",
       "Beta Boulder West             15\n",
       "Goat Climbing Gym             15\n",
       "Gravity Vault Chatham          9\n",
       "Gravity Vault Flemington       8\n",
       "Powerlinez                     6\n",
       "Name: Location, dtype: int64"
      ]
     },
     "execution_count": 5,
     "metadata": {},
     "output_type": "execute_result"
    }
   ],
   "source": [
    "df['Location'].value_counts()"
   ]
  },
  {
   "cell_type": "code",
   "execution_count": 6,
   "metadata": {},
   "outputs": [
    {
     "data": {
      "text/plain": [
       "Date                object\n",
       "Type_of_Climbing    object\n",
       "Country             object\n",
       "Location            object\n",
       "Grade               object\n",
       "Attempts             int64\n",
       "Completed           object\n",
       "Crux_Move_Type      object\n",
       "Repeat              object\n",
       "Terrain             object\n",
       "dtype: object"
      ]
     },
     "execution_count": 6,
     "metadata": {},
     "output_type": "execute_result"
    }
   ],
   "source": [
    "df.dtypes"
   ]
  },
  {
   "attachments": {},
   "cell_type": "markdown",
   "metadata": {},
   "source": [
    "### List of Tasks for Cleaning/Preprocessing\n",
    "\n",
    "1. Change the Date column into datetime objects\n",
    "2. Split the Crux_Move_Type into separate words where applicable\n",
    "3. Convert the Grade column to French scale\n",
    "4. Make a guide for how to read each of the columns' data"
   ]
  },
  {
   "cell_type": "code",
   "execution_count": 7,
   "metadata": {},
   "outputs": [],
   "source": [
    "# (Task 1) Changing the date column to datatime\n",
    "df['Date'] = pd.to_datetime(df['Date'], format='%m/%d/%y')"
   ]
  },
  {
   "cell_type": "code",
   "execution_count": 8,
   "metadata": {},
   "outputs": [
    {
     "name": "stderr",
     "output_type": "stream",
     "text": [
      "/var/folders/z3/_bj3y0g14f95y43g65jh8y740000gn/T/ipykernel_31732/1460854511.py:14: SettingWithCopyWarning: \n",
      "A value is trying to be set on a copy of a slice from a DataFrame\n",
      "\n",
      "See the caveats in the documentation: https://pandas.pydata.org/pandas-docs/stable/user_guide/indexing.html#returning-a-view-versus-a-copy\n",
      "  grades[ind] = us_french_dict[f'{grades[ind]}']\n"
     ]
    }
   ],
   "source": [
    "# (Task 3) Converting all grades to French scale\n",
    "\n",
    "# Making a dictionary of grades\n",
    "us_french_dict = {'V0': '4', 'V1': '5', 'V2': '5+', 'V3': '6A', 'V4': '6B',\n",
    "                 'V5': '6C', 'V6': '7A', 'V7': '7A+', 'V8': '7B', 'V9': '7C',\n",
    "                 'V10': '7C+', 'V11': '8A', 'V12': '8A+', 'V13': '8B',\n",
    "                 'V14': '8B+', 'V15': '8C', 'V16': '8C+', 'V17': '9A'}\n",
    "\n",
    "# Converting all US grades to French scale\n",
    "grades = df['Grade']\n",
    "\n",
    "for ind in range(len(grades)):\n",
    "    if grades[ind] in us_french_dict.keys():\n",
    "        grades[ind] = us_french_dict[f'{grades[ind]}']\n",
    "\n",
    "# Updating the Grade column in the dataframe       \n",
    "df['Grade'] = grades"
   ]
  },
  {
   "cell_type": "code",
   "execution_count": 10,
   "metadata": {},
   "outputs": [
    {
     "data": {
      "text/html": [
       "<div>\n",
       "<style scoped>\n",
       "    .dataframe tbody tr th:only-of-type {\n",
       "        vertical-align: middle;\n",
       "    }\n",
       "\n",
       "    .dataframe tbody tr th {\n",
       "        vertical-align: top;\n",
       "    }\n",
       "\n",
       "    .dataframe thead th {\n",
       "        text-align: right;\n",
       "    }\n",
       "</style>\n",
       "<table border=\"1\" class=\"dataframe\">\n",
       "  <thead>\n",
       "    <tr style=\"text-align: right;\">\n",
       "      <th></th>\n",
       "      <th>Date</th>\n",
       "      <th>Type_of_Climbing</th>\n",
       "      <th>Country</th>\n",
       "      <th>Location</th>\n",
       "      <th>Grade</th>\n",
       "      <th>Attempts</th>\n",
       "      <th>Completed</th>\n",
       "      <th>Crux_Move_Type</th>\n",
       "      <th>Repeat</th>\n",
       "      <th>Terrain</th>\n",
       "    </tr>\n",
       "  </thead>\n",
       "  <tbody>\n",
       "    <tr>\n",
       "      <th>0</th>\n",
       "      <td>2022-05-24</td>\n",
       "      <td>Bouldering</td>\n",
       "      <td>United States</td>\n",
       "      <td>Gravity Vault Montclair</td>\n",
       "      <td>7C</td>\n",
       "      <td>3</td>\n",
       "      <td>yes</td>\n",
       "      <td>crimp</td>\n",
       "      <td>no</td>\n",
       "      <td>overhang</td>\n",
       "    </tr>\n",
       "    <tr>\n",
       "      <th>1</th>\n",
       "      <td>2022-05-24</td>\n",
       "      <td>Bouldering</td>\n",
       "      <td>United States</td>\n",
       "      <td>Gravity Vault Montclair</td>\n",
       "      <td>7A+</td>\n",
       "      <td>2</td>\n",
       "      <td>yes</td>\n",
       "      <td>crimp</td>\n",
       "      <td>no</td>\n",
       "      <td>unknown</td>\n",
       "    </tr>\n",
       "    <tr>\n",
       "      <th>2</th>\n",
       "      <td>2022-06-24</td>\n",
       "      <td>Bouldering</td>\n",
       "      <td>United States</td>\n",
       "      <td>Gravity Vault Montclair</td>\n",
       "      <td>7B</td>\n",
       "      <td>8</td>\n",
       "      <td>no</td>\n",
       "      <td>sloper</td>\n",
       "      <td>no</td>\n",
       "      <td>overhang</td>\n",
       "    </tr>\n",
       "    <tr>\n",
       "      <th>3</th>\n",
       "      <td>2022-06-24</td>\n",
       "      <td>Bouldering</td>\n",
       "      <td>United States</td>\n",
       "      <td>Gravity Vault Montclair</td>\n",
       "      <td>7A</td>\n",
       "      <td>1</td>\n",
       "      <td>yes</td>\n",
       "      <td>crimp</td>\n",
       "      <td>no</td>\n",
       "      <td>unknown</td>\n",
       "    </tr>\n",
       "    <tr>\n",
       "      <th>4</th>\n",
       "      <td>2022-07-18</td>\n",
       "      <td>Bouldering</td>\n",
       "      <td>United States</td>\n",
       "      <td>Gravity Vault Montclair</td>\n",
       "      <td>7A+</td>\n",
       "      <td>4</td>\n",
       "      <td>yes</td>\n",
       "      <td>jug</td>\n",
       "      <td>no</td>\n",
       "      <td>unknown</td>\n",
       "    </tr>\n",
       "    <tr>\n",
       "      <th>5</th>\n",
       "      <td>2022-07-25</td>\n",
       "      <td>Bouldering</td>\n",
       "      <td>United States</td>\n",
       "      <td>Gravity Vault Montclair</td>\n",
       "      <td>7B</td>\n",
       "      <td>3</td>\n",
       "      <td>yes</td>\n",
       "      <td>pinch</td>\n",
       "      <td>no</td>\n",
       "      <td>overhang</td>\n",
       "    </tr>\n",
       "    <tr>\n",
       "      <th>6</th>\n",
       "      <td>2022-07-25</td>\n",
       "      <td>Bouldering</td>\n",
       "      <td>International</td>\n",
       "      <td>Kilter Board</td>\n",
       "      <td>6B</td>\n",
       "      <td>1</td>\n",
       "      <td>yes</td>\n",
       "      <td>dyno</td>\n",
       "      <td>no</td>\n",
       "      <td>unknown</td>\n",
       "    </tr>\n",
       "    <tr>\n",
       "      <th>7</th>\n",
       "      <td>2022-07-29</td>\n",
       "      <td>Bouldering</td>\n",
       "      <td>United States</td>\n",
       "      <td>Gravity Vault Montclair</td>\n",
       "      <td>7A+</td>\n",
       "      <td>1</td>\n",
       "      <td>yes</td>\n",
       "      <td>crimp</td>\n",
       "      <td>no</td>\n",
       "      <td>unknown</td>\n",
       "    </tr>\n",
       "    <tr>\n",
       "      <th>8</th>\n",
       "      <td>2022-07-29</td>\n",
       "      <td>Bouldering</td>\n",
       "      <td>United States</td>\n",
       "      <td>Gravity Vault Montclair</td>\n",
       "      <td>7B</td>\n",
       "      <td>2</td>\n",
       "      <td>yes</td>\n",
       "      <td>sloper</td>\n",
       "      <td>no</td>\n",
       "      <td>unknown</td>\n",
       "    </tr>\n",
       "    <tr>\n",
       "      <th>9</th>\n",
       "      <td>2022-07-29</td>\n",
       "      <td>Bouldering</td>\n",
       "      <td>United States</td>\n",
       "      <td>Gravity Vault Montclair</td>\n",
       "      <td>7A</td>\n",
       "      <td>5</td>\n",
       "      <td>yes</td>\n",
       "      <td>sloper/feature</td>\n",
       "      <td>no</td>\n",
       "      <td>unknown</td>\n",
       "    </tr>\n",
       "  </tbody>\n",
       "</table>\n",
       "</div>"
      ],
      "text/plain": [
       "        Date Type_of_Climbing        Country                 Location Grade  \\\n",
       "0 2022-05-24       Bouldering  United States  Gravity Vault Montclair    7C   \n",
       "1 2022-05-24       Bouldering  United States  Gravity Vault Montclair   7A+   \n",
       "2 2022-06-24       Bouldering  United States  Gravity Vault Montclair    7B   \n",
       "3 2022-06-24       Bouldering  United States  Gravity Vault Montclair    7A   \n",
       "4 2022-07-18       Bouldering  United States  Gravity Vault Montclair   7A+   \n",
       "5 2022-07-25       Bouldering  United States  Gravity Vault Montclair    7B   \n",
       "6 2022-07-25       Bouldering  International             Kilter Board    6B   \n",
       "7 2022-07-29       Bouldering  United States  Gravity Vault Montclair   7A+   \n",
       "8 2022-07-29       Bouldering  United States  Gravity Vault Montclair    7B   \n",
       "9 2022-07-29       Bouldering  United States  Gravity Vault Montclair    7A   \n",
       "\n",
       "   Attempts Completed  Crux_Move_Type Repeat    Terrain  \n",
       "0         3       yes           crimp      no  overhang  \n",
       "1         2       yes           crimp      no   unknown  \n",
       "2         8        no          sloper      no  overhang  \n",
       "3         1       yes           crimp      no   unknown  \n",
       "4         4       yes             jug      no   unknown  \n",
       "5         3       yes           pinch      no  overhang  \n",
       "6         1       yes            dyno      no   unknown  \n",
       "7         1       yes           crimp      no   unknown  \n",
       "8         2       yes          sloper      no   unknown  \n",
       "9         5       yes  sloper/feature      no   unknown  "
      ]
     },
     "execution_count": 10,
     "metadata": {},
     "output_type": "execute_result"
    }
   ],
   "source": [
    "df.head(10)"
   ]
  },
  {
   "attachments": {},
   "cell_type": "markdown",
   "metadata": {},
   "source": [
    "### List of Tasks for Visualization\n",
    "\n",
    "1. Efficiency Rates (will require creating a new column for number of attempts required per send per grade)\n",
    "2. Comparison of attempts to sends per grade\n",
    "3. Average grade sent by Country\n",
    "4. Average grade sent by Location\n",
    "5. Overall distribution of the grades attempted (make the axes show both french and US scales)\n",
    "6. Overall distribution of the grades sent (make the axes show both french and US scales)"
   ]
  }
 ],
 "metadata": {
  "kernelspec": {
   "display_name": "lewagon",
   "language": "python",
   "name": "python3"
  },
  "language_info": {
   "codemirror_mode": {
    "name": "ipython",
    "version": 3
   },
   "file_extension": ".py",
   "mimetype": "text/x-python",
   "name": "python",
   "nbconvert_exporter": "python",
   "pygments_lexer": "ipython3",
   "version": "3.10.6"
  },
  "orig_nbformat": 4
 },
 "nbformat": 4,
 "nbformat_minor": 2
}
