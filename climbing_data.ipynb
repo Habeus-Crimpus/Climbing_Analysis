{
 "cells": [
  {
   "attachments": {},
   "cell_type": "markdown",
   "metadata": {},
   "source": [
    "# Climbing Data Analysis May 2022-May 2023"
   ]
  },
  {
   "attachments": {},
   "cell_type": "markdown",
   "metadata": {},
   "source": [
    "## Overview of the Project"
   ]
  },
  {
   "attachments": {},
   "cell_type": "markdown",
   "metadata": {},
   "source": [
    "FILL IN LATER"
   ]
  },
  {
   "attachments": {},
   "cell_type": "markdown",
   "metadata": {},
   "source": [
    "## Importing the Required Packages"
   ]
  },
  {
   "cell_type": "code",
   "execution_count": 1,
   "metadata": {},
   "outputs": [],
   "source": [
    "import numpy as np\n",
    "import matplotlib.pyplot as plt\n",
    "import pandas as pd\n",
    "import seaborn as sns\n",
    "from sklearn.model_selection import train_test_split"
   ]
  },
  {
   "attachments": {},
   "cell_type": "markdown",
   "metadata": {},
   "source": [
    "## Importing the Dataset"
   ]
  },
  {
   "cell_type": "code",
   "execution_count": 2,
   "metadata": {},
   "outputs": [],
   "source": [
    "# The dataset is currently stored on and imported from GitHub (as of May 2023)\n",
    "URL = \"https://raw.githubusercontent.com/Habeus-Crimpus/Climbing_Analysis/main/Climbing_Data_CSV.csv\"\n",
    "df = pd.read_csv(URL)"
   ]
  },
  {
   "attachments": {},
   "cell_type": "markdown",
   "metadata": {},
   "source": [
    "**IMPORTANT NOTE:** The dataset at the above URL is not pre-cleaned."
   ]
  },
  {
   "attachments": {},
   "cell_type": "markdown",
   "metadata": {},
   "source": [
    "## Examining at the Table"
   ]
  },
  {
   "cell_type": "code",
   "execution_count": 3,
   "metadata": {},
   "outputs": [
    {
     "data": {
      "text/html": [
       "<div>\n",
       "<style scoped>\n",
       "    .dataframe tbody tr th:only-of-type {\n",
       "        vertical-align: middle;\n",
       "    }\n",
       "\n",
       "    .dataframe tbody tr th {\n",
       "        vertical-align: top;\n",
       "    }\n",
       "\n",
       "    .dataframe thead th {\n",
       "        text-align: right;\n",
       "    }\n",
       "</style>\n",
       "<table border=\"1\" class=\"dataframe\">\n",
       "  <thead>\n",
       "    <tr style=\"text-align: right;\">\n",
       "      <th></th>\n",
       "      <th>Date</th>\n",
       "      <th>Type_of_Climbing</th>\n",
       "      <th>Country</th>\n",
       "      <th>Location</th>\n",
       "      <th>Grade</th>\n",
       "      <th>Attempts</th>\n",
       "      <th>Completed</th>\n",
       "      <th>Crux_Move_Type</th>\n",
       "      <th>Repeat</th>\n",
       "      <th>Terrain</th>\n",
       "    </tr>\n",
       "  </thead>\n",
       "  <tbody>\n",
       "    <tr>\n",
       "      <th>0</th>\n",
       "      <td>5/24/22</td>\n",
       "      <td>Bouldering</td>\n",
       "      <td>United States</td>\n",
       "      <td>Gravity Vault Montclair</td>\n",
       "      <td>V9</td>\n",
       "      <td>3.0</td>\n",
       "      <td>yes</td>\n",
       "      <td>crimp</td>\n",
       "      <td>no</td>\n",
       "      <td>overhang</td>\n",
       "    </tr>\n",
       "    <tr>\n",
       "      <th>1</th>\n",
       "      <td>5/24/22</td>\n",
       "      <td>Bouldering</td>\n",
       "      <td>United States</td>\n",
       "      <td>Gravity Vault Montclair</td>\n",
       "      <td>V7</td>\n",
       "      <td>2.0</td>\n",
       "      <td>yes</td>\n",
       "      <td>crimp</td>\n",
       "      <td>no</td>\n",
       "      <td>unknown</td>\n",
       "    </tr>\n",
       "    <tr>\n",
       "      <th>2</th>\n",
       "      <td>6/24/22</td>\n",
       "      <td>Bouldering</td>\n",
       "      <td>United States</td>\n",
       "      <td>Gravity Vault Montclair</td>\n",
       "      <td>V8</td>\n",
       "      <td>8.0</td>\n",
       "      <td>no</td>\n",
       "      <td>sloper</td>\n",
       "      <td>no</td>\n",
       "      <td>overhang</td>\n",
       "    </tr>\n",
       "    <tr>\n",
       "      <th>3</th>\n",
       "      <td>6/24/22</td>\n",
       "      <td>Bouldering</td>\n",
       "      <td>United States</td>\n",
       "      <td>Gravity Vault Montclair</td>\n",
       "      <td>V6</td>\n",
       "      <td>1.0</td>\n",
       "      <td>yes</td>\n",
       "      <td>crimp</td>\n",
       "      <td>no</td>\n",
       "      <td>unknown</td>\n",
       "    </tr>\n",
       "    <tr>\n",
       "      <th>4</th>\n",
       "      <td>7/18/22</td>\n",
       "      <td>Bouldering</td>\n",
       "      <td>United States</td>\n",
       "      <td>Gravity Vault Montclair</td>\n",
       "      <td>V7</td>\n",
       "      <td>4.0</td>\n",
       "      <td>yes</td>\n",
       "      <td>jug</td>\n",
       "      <td>no</td>\n",
       "      <td>unknown</td>\n",
       "    </tr>\n",
       "  </tbody>\n",
       "</table>\n",
       "</div>"
      ],
      "text/plain": [
       "      Date Type_of_Climbing        Country                 Location Grade  \\\n",
       "0  5/24/22       Bouldering  United States  Gravity Vault Montclair    V9   \n",
       "1  5/24/22       Bouldering  United States  Gravity Vault Montclair    V7   \n",
       "2  6/24/22       Bouldering  United States  Gravity Vault Montclair    V8   \n",
       "3  6/24/22       Bouldering  United States  Gravity Vault Montclair    V6   \n",
       "4  7/18/22       Bouldering  United States  Gravity Vault Montclair    V7   \n",
       "\n",
       "   Attempts Completed Crux_Move_Type Repeat    Terrain  \n",
       "0       3.0       yes          crimp      no  overhang  \n",
       "1       2.0       yes          crimp      no   unknown  \n",
       "2       8.0        no         sloper      no  overhang  \n",
       "3       1.0       yes          crimp      no   unknown  \n",
       "4       4.0       yes            jug      no   unknown  "
      ]
     },
     "execution_count": 3,
     "metadata": {},
     "output_type": "execute_result"
    }
   ],
   "source": [
    "df.head()"
   ]
  },
  {
   "cell_type": "code",
   "execution_count": 4,
   "metadata": {},
   "outputs": [
    {
     "data": {
      "text/plain": [
       "(2578, 10)"
      ]
     },
     "execution_count": 4,
     "metadata": {},
     "output_type": "execute_result"
    }
   ],
   "source": [
    "# Checking the initial dimensions of the dataframe\n",
    "df.shape"
   ]
  },
  {
   "cell_type": "code",
   "execution_count": 5,
   "metadata": {},
   "outputs": [
    {
     "data": {
      "text/plain": [
       "Date                 object\n",
       "Type_of_Climbing     object\n",
       "Country              object\n",
       "Location             object\n",
       "Grade                object\n",
       "Attempts            float64\n",
       "Completed            object\n",
       "Crux_Move_Type       object\n",
       "Repeat               object\n",
       "Terrain              object\n",
       "dtype: object"
      ]
     },
     "execution_count": 5,
     "metadata": {},
     "output_type": "execute_result"
    }
   ],
   "source": [
    "# Getting a general description of the dataframe\n",
    "df.dtypes"
   ]
  },
  {
   "attachments": {},
   "cell_type": "markdown",
   "metadata": {},
   "source": [
    "### List of Tasks for Cleaning/Preprocessing\n",
    "\n",
    "1. Dropping all NaN values\n",
    "2. Change the Date column into datetime objects\n",
    "3. Split the Crux_Move_Type into separate words where applicable\n",
    "4. Convert the Grade column to French scale\n",
    "5. Make an ordering to the Grade column\n",
    "6. Make a guide for how to read each of the columns' data\n",
    "7. Reclean the dataset"
   ]
  },
  {
   "cell_type": "code",
   "execution_count": 6,
   "metadata": {},
   "outputs": [
    {
     "data": {
      "text/plain": [
       "(1839, 10)"
      ]
     },
     "execution_count": 6,
     "metadata": {},
     "output_type": "execute_result"
    }
   ],
   "source": [
    "# (Task 1) Dropping the NaN values\n",
    "\"\"\"\n",
    "The dataset has a lot of entirely empty rows which have been created during the conversion process from .xlxs to .csv.\n",
    "Since they contain no information, they can just be dropped.\n",
    "\"\"\"\n",
    "df.dropna(inplace=True)\n",
    "df.shape"
   ]
  },
  {
   "cell_type": "code",
   "execution_count": 7,
   "metadata": {},
   "outputs": [
    {
     "data": {
      "text/plain": [
       "Date                0\n",
       "Type_of_Climbing    0\n",
       "Country             0\n",
       "Location            0\n",
       "Grade               0\n",
       "Attempts            0\n",
       "Completed           0\n",
       "Crux_Move_Type      0\n",
       "Repeat              0\n",
       "Terrain             0\n",
       "dtype: int64"
      ]
     },
     "execution_count": 7,
     "metadata": {},
     "output_type": "execute_result"
    }
   ],
   "source": [
    "# Confirming that no more NaN values are in the dataframe\n",
    "df.isna().sum()"
   ]
  },
  {
   "cell_type": "code",
   "execution_count": 8,
   "metadata": {},
   "outputs": [],
   "source": [
    "# (Task 2) Changing the date column to datatime\n",
    "df['Date'] = pd.to_datetime(df['Date'], format='%m/%d/%y')"
   ]
  },
  {
   "cell_type": "code",
   "execution_count": 9,
   "metadata": {},
   "outputs": [
    {
     "data": {
      "text/html": [
       "<div>\n",
       "<style scoped>\n",
       "    .dataframe tbody tr th:only-of-type {\n",
       "        vertical-align: middle;\n",
       "    }\n",
       "\n",
       "    .dataframe tbody tr th {\n",
       "        vertical-align: top;\n",
       "    }\n",
       "\n",
       "    .dataframe thead th {\n",
       "        text-align: right;\n",
       "    }\n",
       "</style>\n",
       "<table border=\"1\" class=\"dataframe\">\n",
       "  <thead>\n",
       "    <tr style=\"text-align: right;\">\n",
       "      <th></th>\n",
       "      <th>Date</th>\n",
       "      <th>Type_of_Climbing</th>\n",
       "      <th>Country</th>\n",
       "      <th>Location</th>\n",
       "      <th>Grade</th>\n",
       "      <th>Attempts</th>\n",
       "      <th>Completed</th>\n",
       "      <th>Crux_Move_Type</th>\n",
       "      <th>Repeat</th>\n",
       "      <th>Terrain</th>\n",
       "    </tr>\n",
       "  </thead>\n",
       "  <tbody>\n",
       "    <tr>\n",
       "      <th>0</th>\n",
       "      <td>2022-05-24</td>\n",
       "      <td>Bouldering</td>\n",
       "      <td>United States</td>\n",
       "      <td>Gravity Vault Montclair</td>\n",
       "      <td>V9</td>\n",
       "      <td>3.0</td>\n",
       "      <td>yes</td>\n",
       "      <td>[crimp]</td>\n",
       "      <td>no</td>\n",
       "      <td>overhang</td>\n",
       "    </tr>\n",
       "    <tr>\n",
       "      <th>1</th>\n",
       "      <td>2022-05-24</td>\n",
       "      <td>Bouldering</td>\n",
       "      <td>United States</td>\n",
       "      <td>Gravity Vault Montclair</td>\n",
       "      <td>V7</td>\n",
       "      <td>2.0</td>\n",
       "      <td>yes</td>\n",
       "      <td>[crimp]</td>\n",
       "      <td>no</td>\n",
       "      <td>unknown</td>\n",
       "    </tr>\n",
       "    <tr>\n",
       "      <th>2</th>\n",
       "      <td>2022-06-24</td>\n",
       "      <td>Bouldering</td>\n",
       "      <td>United States</td>\n",
       "      <td>Gravity Vault Montclair</td>\n",
       "      <td>V8</td>\n",
       "      <td>8.0</td>\n",
       "      <td>no</td>\n",
       "      <td>[sloper]</td>\n",
       "      <td>no</td>\n",
       "      <td>overhang</td>\n",
       "    </tr>\n",
       "    <tr>\n",
       "      <th>3</th>\n",
       "      <td>2022-06-24</td>\n",
       "      <td>Bouldering</td>\n",
       "      <td>United States</td>\n",
       "      <td>Gravity Vault Montclair</td>\n",
       "      <td>V6</td>\n",
       "      <td>1.0</td>\n",
       "      <td>yes</td>\n",
       "      <td>[crimp]</td>\n",
       "      <td>no</td>\n",
       "      <td>unknown</td>\n",
       "    </tr>\n",
       "    <tr>\n",
       "      <th>4</th>\n",
       "      <td>2022-07-18</td>\n",
       "      <td>Bouldering</td>\n",
       "      <td>United States</td>\n",
       "      <td>Gravity Vault Montclair</td>\n",
       "      <td>V7</td>\n",
       "      <td>4.0</td>\n",
       "      <td>yes</td>\n",
       "      <td>[jug]</td>\n",
       "      <td>no</td>\n",
       "      <td>unknown</td>\n",
       "    </tr>\n",
       "    <tr>\n",
       "      <th>5</th>\n",
       "      <td>2022-07-25</td>\n",
       "      <td>Bouldering</td>\n",
       "      <td>United States</td>\n",
       "      <td>Gravity Vault Montclair</td>\n",
       "      <td>V8</td>\n",
       "      <td>3.0</td>\n",
       "      <td>yes</td>\n",
       "      <td>[pinch]</td>\n",
       "      <td>no</td>\n",
       "      <td>overhang</td>\n",
       "    </tr>\n",
       "    <tr>\n",
       "      <th>6</th>\n",
       "      <td>2022-07-25</td>\n",
       "      <td>Bouldering</td>\n",
       "      <td>International</td>\n",
       "      <td>Kilter Board</td>\n",
       "      <td>V4</td>\n",
       "      <td>1.0</td>\n",
       "      <td>yes</td>\n",
       "      <td>[dyno]</td>\n",
       "      <td>no</td>\n",
       "      <td>unknown</td>\n",
       "    </tr>\n",
       "    <tr>\n",
       "      <th>7</th>\n",
       "      <td>2022-07-29</td>\n",
       "      <td>Bouldering</td>\n",
       "      <td>United States</td>\n",
       "      <td>Gravity Vault Montclair</td>\n",
       "      <td>V7</td>\n",
       "      <td>1.0</td>\n",
       "      <td>yes</td>\n",
       "      <td>[crimp]</td>\n",
       "      <td>no</td>\n",
       "      <td>unknown</td>\n",
       "    </tr>\n",
       "    <tr>\n",
       "      <th>8</th>\n",
       "      <td>2022-07-29</td>\n",
       "      <td>Bouldering</td>\n",
       "      <td>United States</td>\n",
       "      <td>Gravity Vault Montclair</td>\n",
       "      <td>V8</td>\n",
       "      <td>2.0</td>\n",
       "      <td>yes</td>\n",
       "      <td>[sloper]</td>\n",
       "      <td>no</td>\n",
       "      <td>unknown</td>\n",
       "    </tr>\n",
       "    <tr>\n",
       "      <th>9</th>\n",
       "      <td>2022-07-29</td>\n",
       "      <td>Bouldering</td>\n",
       "      <td>United States</td>\n",
       "      <td>Gravity Vault Montclair</td>\n",
       "      <td>V6</td>\n",
       "      <td>5.0</td>\n",
       "      <td>yes</td>\n",
       "      <td>[sloper, feature]</td>\n",
       "      <td>no</td>\n",
       "      <td>unknown</td>\n",
       "    </tr>\n",
       "  </tbody>\n",
       "</table>\n",
       "</div>"
      ],
      "text/plain": [
       "        Date Type_of_Climbing        Country                 Location Grade  \\\n",
       "0 2022-05-24       Bouldering  United States  Gravity Vault Montclair    V9   \n",
       "1 2022-05-24       Bouldering  United States  Gravity Vault Montclair    V7   \n",
       "2 2022-06-24       Bouldering  United States  Gravity Vault Montclair    V8   \n",
       "3 2022-06-24       Bouldering  United States  Gravity Vault Montclair    V6   \n",
       "4 2022-07-18       Bouldering  United States  Gravity Vault Montclair    V7   \n",
       "5 2022-07-25       Bouldering  United States  Gravity Vault Montclair    V8   \n",
       "6 2022-07-25       Bouldering  International             Kilter Board    V4   \n",
       "7 2022-07-29       Bouldering  United States  Gravity Vault Montclair    V7   \n",
       "8 2022-07-29       Bouldering  United States  Gravity Vault Montclair    V8   \n",
       "9 2022-07-29       Bouldering  United States  Gravity Vault Montclair    V6   \n",
       "\n",
       "   Attempts Completed     Crux_Move_Type Repeat    Terrain  \n",
       "0       3.0       yes            [crimp]      no  overhang  \n",
       "1       2.0       yes            [crimp]      no   unknown  \n",
       "2       8.0        no           [sloper]      no  overhang  \n",
       "3       1.0       yes            [crimp]      no   unknown  \n",
       "4       4.0       yes              [jug]      no   unknown  \n",
       "5       3.0       yes            [pinch]      no  overhang  \n",
       "6       1.0       yes             [dyno]      no   unknown  \n",
       "7       1.0       yes            [crimp]      no   unknown  \n",
       "8       2.0       yes           [sloper]      no   unknown  \n",
       "9       5.0       yes  [sloper, feature]      no   unknown  "
      ]
     },
     "execution_count": 9,
     "metadata": {},
     "output_type": "execute_result"
    }
   ],
   "source": [
    "# (Task 3) Splitting the Crux_Move_type column\n",
    "\"\"\"\n",
    "I am motifying the Crux_Move_Type column so that each element is a list. At the moment, they are stored as strings.\n",
    "Since there are climbs with multiple move types listed and the order in which the move types are listed may vary, I\n",
    "have chosen to convert them to a list so that they can later be searched with the keyword 'in'.\n",
    "\"\"\"\n",
    "# WARNING: Running this cell multiple times without resetting the kernel will cause NaN values.\n",
    "#df['Crux_Move_Type'] = df['Crux_Move_Type'].str.split('/')\n",
    "#df.head(10)"
   ]
  },
  {
   "cell_type": "code",
   "execution_count": 10,
   "metadata": {},
   "outputs": [
    {
     "data": {
      "text/plain": [
       "0              crimp\n",
       "1              crimp\n",
       "2             sloper\n",
       "3              crimp\n",
       "4                jug\n",
       "5              pinch\n",
       "6               dyno\n",
       "7              crimp\n",
       "8             sloper\n",
       "9     sloper/feature\n",
       "10             crimp\n",
       "11              dyno\n",
       "12             crimp\n",
       "13             pinch\n",
       "14              dyno\n",
       "15      crimp/sloper\n",
       "16             pinch\n",
       "17               jug\n",
       "18             pinch\n",
       "19             pinch\n",
       "20             pinch\n",
       "21             crimp\n",
       "22             pinch\n",
       "23           sloper \n",
       "24      pinch/sloper\n",
       "25           pockets\n",
       "26             pinch\n",
       "27            crimp \n",
       "28             crimp\n",
       "29            pinch \n",
       "Name: Crux_Move_Type, dtype: object"
      ]
     },
     "execution_count": 10,
     "metadata": {},
     "output_type": "execute_result"
    }
   ],
   "source": [
    "df['Crux_Move_Type'][:30]"
   ]
  },
  {
   "cell_type": "code",
   "execution_count": 15,
   "metadata": {},
   "outputs": [],
   "source": [
    "# Splitting the Crux_Move_Type into binary columns\n",
    "crimpy = []\n",
    "slopy = []\n",
    "feature_ = []\n",
    "juggy = []\n",
    "dyno = []\n",
    "balancy = []\n",
    "pinchy = []\n",
    "\n",
    "for i in range(df.shape[0]):\n",
    "    \n",
    "    # Crimps\n",
    "    if 'crimp' in df['Crux_Move_Type'][i]:\n",
    "        crimpy.append(1)\n",
    "    else:\n",
    "        crimpy.append(0)\n",
    "    \n",
    "    # Slopers\n",
    "    if 'sloper' in df['Crux_Move_Type'][i]:\n",
    "        slopy.append(1)\n",
    "    else:\n",
    "        slopy.append(0)\n",
    "        \n",
    "    # Features\n",
    "    if 'feature' in df['Crux_Move_Type'][i]:\n",
    "        feature_.append(1)\n",
    "    else:\n",
    "        feature_.append(0)\n",
    "    \n",
    "    # Jugs\n",
    "    if 'jug' in df['Crux_Move_Type'][i]:\n",
    "        juggy.append(1)\n",
    "    else:\n",
    "        juggy.append(0)\n",
    "        \n",
    "    # Dynos\n",
    "    if 'dyno' in df['Crux_Move_Type'][i]:\n",
    "        dyno.append(1)\n",
    "    else:\n",
    "        dyno.append(0)\n",
    "     \n",
    "    # Balance moves   \n",
    "    if 'balance' in df['Crux_Move_Type'][i]:\n",
    "        balancy.append(1)\n",
    "    else:\n",
    "        balancy.append(0)\n",
    "        \n",
    "    # Pinches\n",
    "    if 'pinch' in df['Crux_Move_Type'][i]:\n",
    "        pinchy.append(1)\n",
    "    else:\n",
    "        pinchy.append(0)\n",
    "\n",
    "# Making new columns in the dataframe\n",
    "df['has_crimp'] = crimpy\n",
    "df['has_sloper'] = slopy\n",
    "df['has_feature'] = feature_\n",
    "df['has_jug'] = juggy\n",
    "df['has_dyno'] = dyno\n",
    "df['has_balance'] = balancy\n",
    "df['has_pinch'] = pinchy"
   ]
  },
  {
   "cell_type": "code",
   "execution_count": 17,
   "metadata": {},
   "outputs": [],
   "source": [
    "# Getting rid of the Crux_Move_Type column (it is now redundant).\n",
    "df.drop(columns='Crux_Move_Type', inplace=True)"
   ]
  },
  {
   "cell_type": "code",
   "execution_count": 18,
   "metadata": {},
   "outputs": [
    {
     "data": {
      "text/html": [
       "<div>\n",
       "<style scoped>\n",
       "    .dataframe tbody tr th:only-of-type {\n",
       "        vertical-align: middle;\n",
       "    }\n",
       "\n",
       "    .dataframe tbody tr th {\n",
       "        vertical-align: top;\n",
       "    }\n",
       "\n",
       "    .dataframe thead th {\n",
       "        text-align: right;\n",
       "    }\n",
       "</style>\n",
       "<table border=\"1\" class=\"dataframe\">\n",
       "  <thead>\n",
       "    <tr style=\"text-align: right;\">\n",
       "      <th></th>\n",
       "      <th>Date</th>\n",
       "      <th>Type_of_Climbing</th>\n",
       "      <th>Country</th>\n",
       "      <th>Location</th>\n",
       "      <th>Grade</th>\n",
       "      <th>Attempts</th>\n",
       "      <th>Completed</th>\n",
       "      <th>Repeat</th>\n",
       "      <th>Terrain</th>\n",
       "      <th>has_crimp</th>\n",
       "      <th>has_sloper</th>\n",
       "      <th>has_feature</th>\n",
       "      <th>has_jug</th>\n",
       "      <th>has_dyno</th>\n",
       "      <th>has_balance</th>\n",
       "      <th>has_pinch</th>\n",
       "    </tr>\n",
       "  </thead>\n",
       "  <tbody>\n",
       "    <tr>\n",
       "      <th>0</th>\n",
       "      <td>2022-05-24</td>\n",
       "      <td>Bouldering</td>\n",
       "      <td>United States</td>\n",
       "      <td>Gravity Vault Montclair</td>\n",
       "      <td>V9</td>\n",
       "      <td>3.0</td>\n",
       "      <td>yes</td>\n",
       "      <td>no</td>\n",
       "      <td>overhang</td>\n",
       "      <td>1</td>\n",
       "      <td>0</td>\n",
       "      <td>0</td>\n",
       "      <td>0</td>\n",
       "      <td>0</td>\n",
       "      <td>0</td>\n",
       "      <td>0</td>\n",
       "    </tr>\n",
       "    <tr>\n",
       "      <th>1</th>\n",
       "      <td>2022-05-24</td>\n",
       "      <td>Bouldering</td>\n",
       "      <td>United States</td>\n",
       "      <td>Gravity Vault Montclair</td>\n",
       "      <td>V7</td>\n",
       "      <td>2.0</td>\n",
       "      <td>yes</td>\n",
       "      <td>no</td>\n",
       "      <td>unknown</td>\n",
       "      <td>1</td>\n",
       "      <td>0</td>\n",
       "      <td>0</td>\n",
       "      <td>0</td>\n",
       "      <td>0</td>\n",
       "      <td>0</td>\n",
       "      <td>0</td>\n",
       "    </tr>\n",
       "    <tr>\n",
       "      <th>2</th>\n",
       "      <td>2022-06-24</td>\n",
       "      <td>Bouldering</td>\n",
       "      <td>United States</td>\n",
       "      <td>Gravity Vault Montclair</td>\n",
       "      <td>V8</td>\n",
       "      <td>8.0</td>\n",
       "      <td>no</td>\n",
       "      <td>no</td>\n",
       "      <td>overhang</td>\n",
       "      <td>0</td>\n",
       "      <td>1</td>\n",
       "      <td>0</td>\n",
       "      <td>0</td>\n",
       "      <td>0</td>\n",
       "      <td>0</td>\n",
       "      <td>0</td>\n",
       "    </tr>\n",
       "  </tbody>\n",
       "</table>\n",
       "</div>"
      ],
      "text/plain": [
       "        Date Type_of_Climbing        Country                 Location Grade  \\\n",
       "0 2022-05-24       Bouldering  United States  Gravity Vault Montclair    V9   \n",
       "1 2022-05-24       Bouldering  United States  Gravity Vault Montclair    V7   \n",
       "2 2022-06-24       Bouldering  United States  Gravity Vault Montclair    V8   \n",
       "\n",
       "   Attempts Completed Repeat    Terrain  has_crimp  has_sloper  has_feature  \\\n",
       "0       3.0       yes      no  overhang          1           0            0   \n",
       "1       2.0       yes      no   unknown          1           0            0   \n",
       "2       8.0        no      no  overhang          0           1            0   \n",
       "\n",
       "   has_jug  has_dyno  has_balance  has_pinch  \n",
       "0        0         0            0          0  \n",
       "1        0         0            0          0  \n",
       "2        0         0            0          0  "
      ]
     },
     "execution_count": 18,
     "metadata": {},
     "output_type": "execute_result"
    }
   ],
   "source": [
    "df.head(3)"
   ]
  },
  {
   "cell_type": "code",
   "execution_count": 19,
   "metadata": {},
   "outputs": [
    {
     "name": "stderr",
     "output_type": "stream",
     "text": [
      "/var/folders/z3/_bj3y0g14f95y43g65jh8y740000gn/T/ipykernel_77766/1791464949.py:22: SettingWithCopyWarning: \n",
      "A value is trying to be set on a copy of a slice from a DataFrame\n",
      "\n",
      "See the caveats in the documentation: https://pandas.pydata.org/pandas-docs/stable/user_guide/indexing.html#returning-a-view-versus-a-copy\n",
      "  grades[ind] = us_french_boulder_dict[f'{grades[ind]}']\n",
      "/var/folders/z3/_bj3y0g14f95y43g65jh8y740000gn/T/ipykernel_77766/1791464949.py:23: SettingWithCopyWarning: \n",
      "A value is trying to be set on a copy of a slice from a DataFrame\n",
      "\n",
      "See the caveats in the documentation: https://pandas.pydata.org/pandas-docs/stable/user_guide/indexing.html#returning-a-view-versus-a-copy\n",
      "  grades[ind] = grades[ind].strip()   # removing any excess whitespace\n"
     ]
    }
   ],
   "source": [
    "# (Task 4) Converting all grades to French scale\n",
    "\n",
    "# Making a dictionary of grades\n",
    "us_french_boulder_dict = {'V0': '4', 'V1': '5A', 'V2': '5B', 'V3': '6A', 'V4': '6B',\n",
    "                 'V5': '6C', 'V6': '7A', 'V7': '7A+', 'V8': '7B', 'V9': '7C',\n",
    "                 'V10': '7C+', 'V11': '8A', 'V12': '8A+', 'V13': '8B',\n",
    "                 'V14': '8B+', 'V15': '8C', 'V16': '8C+', 'V17': '9A',\n",
    "                 '5.2': '1', '5.3': '2', '5.4': '3', '5.5': '4', '5.6': '5A', \n",
    "                 '5.7': '5B', '5.8': '5C', '5.9': '6A', '5.10a': '6A+', '5.10b': '6A+',\n",
    "                 '5.10c': '6B', '5.10d': '6B+', '5.11a': '6C', '5.11b': '6C+',\n",
    "                 '5.11c': '7A', '5.11d': '7A+', '5.12a': '7B', '5.12b': '7B+',\n",
    "                 '5.12c': '7C', '5.12d': '7C+', '5.13a': '7C+', '5.13b': '8A',\n",
    "                 '5.13c': '8A+', '5.13d': '8B', '5.14a': '8B+', '5.14b': '8C',\n",
    "                 '5.14c': '8C+', '5.14d': '9A', '5.15a': '9A+', '5.15b': '9B',\n",
    "                 '5.15c': '9B+', '5.15d': '9C'}\n",
    "\n",
    "# Converting all US bouldergrades to French scale\n",
    "grades = df['Grade']\n",
    "\n",
    "for ind in range(len(grades)):\n",
    "    if grades[ind] in us_french_boulder_dict.keys():\n",
    "        grades[ind] = us_french_boulder_dict[f'{grades[ind]}']\n",
    "    grades[ind] = grades[ind].strip()   # removing any excess whitespace\n",
    "\n",
    "# Updating the Grade column in the dataframe       \n",
    "df['Grade'] = grades"
   ]
  },
  {
   "cell_type": "code",
   "execution_count": 20,
   "metadata": {},
   "outputs": [
    {
     "data": {
      "text/plain": [
       "array(['7C', '7A+', '7B', '7A', '6B', '6C', '6C+', '6B+', '7C+', '7B+',\n",
       "       '6A+', '6A', '5+', '5', '2+', '4', '5-', '3+', '5B', '5A', '8B',\n",
       "       '8A', '8C', '5.10', '5.12', '8B+', '8A+', '4C', '5C', '6C_'],\n",
       "      dtype=object)"
      ]
     },
     "execution_count": 20,
     "metadata": {},
     "output_type": "execute_result"
    }
   ],
   "source": [
    "# Removing any excess white space.\n",
    "df['Grade'].unique()"
   ]
  },
  {
   "cell_type": "code",
   "execution_count": 22,
   "metadata": {},
   "outputs": [
    {
     "data": {
      "text/plain": [
       "[Int64Index([340], dtype='int64'),\n",
       " Int64Index([342], dtype='int64'),\n",
       " Int64Index([117], dtype='int64'),\n",
       " Int64Index([1831], dtype='int64'),\n",
       " Int64Index([39, 69, 115, 128], dtype='int64'),\n",
       " Int64Index([105], dtype='int64'),\n",
       " Int64Index([120, 143], dtype='int64'),\n",
       " Int64Index([59, 124], dtype='int64'),\n",
       " Int64Index([1023, 1794], dtype='int64')]"
      ]
     },
     "execution_count": 22,
     "metadata": {},
     "output_type": "execute_result"
    }
   ],
   "source": [
    "# Locating remaining issue cases( '5.10', '5.12', '5-', and '6C_')\n",
    "\n",
    "# List of problem rows\n",
    "problems = []\n",
    "\n",
    "# Locating the rows and replacing the values\n",
    "problems.append(df[df['Grade'] == '5.10'].index) # '5.10'\n",
    "problems.append(df[df['Grade'] == '5.12'].index) # '5.12'\n",
    "problems.append(df[df['Grade'] == '5-'].index)   # '5-'\n",
    "problems.append(df[df['Grade'] == '6C_'].index)  # '6C_'\n",
    "problems.append(df[df['Grade'] == '5+'].index)   # '5+'\n",
    "problems.append(df[df['Grade'] == '2+'].index)   # '2+'\n",
    "problems.append(df[df['Grade'] == '3+'].index)   # '3+'\n",
    "problems.append(df[df['Grade'] == '5'].index)    # '5'\n",
    "problems.append(df[df['Grade'] == '4C'].index)   # '4C'\n",
    "# Looking at the rows\n",
    "problems"
   ]
  },
  {
   "cell_type": "code",
   "execution_count": 23,
   "metadata": {},
   "outputs": [],
   "source": [
    "# Replacing the issue row grades with appropriate substitutes\n",
    "df.loc[340, 'Grade'] = '5.10a'  \n",
    "df.loc[342, 'Grade'] = '5.12a'\n",
    "df.loc[117, 'Grade'] = '5A'\n",
    "df.loc[1831, 'Grade'] = '6C'\n",
    "df.loc[[39, 69, 115, 128], 'Grade'] = '5C'\n",
    "df.loc[105, 'Grade'] = '2'\n",
    "df.loc[[120, 143], 'Grade'] = '3'\n",
    "df.loc[[59, 124], 'Grade'] = '5B'\n",
    "df.loc[[1023, 1794], 'Grade'] = '4'"
   ]
  },
  {
   "cell_type": "code",
   "execution_count": 24,
   "metadata": {},
   "outputs": [
    {
     "name": "stderr",
     "output_type": "stream",
     "text": [
      "/var/folders/z3/_bj3y0g14f95y43g65jh8y740000gn/T/ipykernel_77766/33570960.py:7: SettingWithCopyWarning: \n",
      "A value is trying to be set on a copy of a slice from a DataFrame\n",
      "\n",
      "See the caveats in the documentation: https://pandas.pydata.org/pandas-docs/stable/user_guide/indexing.html#returning-a-view-versus-a-copy\n",
      "  grades[ind] = grades[ind].strip()   # removing any excess whitespace\n",
      "/var/folders/z3/_bj3y0g14f95y43g65jh8y740000gn/T/ipykernel_77766/33570960.py:6: SettingWithCopyWarning: \n",
      "A value is trying to be set on a copy of a slice from a DataFrame\n",
      "\n",
      "See the caveats in the documentation: https://pandas.pydata.org/pandas-docs/stable/user_guide/indexing.html#returning-a-view-versus-a-copy\n",
      "  grades[ind] = us_french_boulder_dict[f'{grades[ind]}']\n"
     ]
    }
   ],
   "source": [
    "# Reconverting the grades to french-scale\n",
    "grades = df['Grade']\n",
    "\n",
    "for ind in range(len(grades)):\n",
    "    if grades[ind] in us_french_boulder_dict.keys():\n",
    "        grades[ind] = us_french_boulder_dict[f'{grades[ind]}']\n",
    "    grades[ind] = grades[ind].strip()   # removing any excess whitespace\n",
    "\n",
    "# Updating the Grade column in the dataframe       \n",
    "df['Grade'] = grades"
   ]
  },
  {
   "cell_type": "code",
   "execution_count": 25,
   "metadata": {},
   "outputs": [
    {
     "data": {
      "text/plain": [
       "array(['7C', '7A+', '7B', '7A', '6B', '6C', '6C+', '6B+', '7C+', '7B+',\n",
       "       '6A+', '6A', '5C', '5B', '2', '4', '5A', '3', '8B', '8A', '8C',\n",
       "       '8B+', '8A+'], dtype=object)"
      ]
     },
     "execution_count": 25,
     "metadata": {},
     "output_type": "execute_result"
    }
   ],
   "source": [
    "# Confirming that all grades are now correctly formatted.\n",
    "df['Grade'].unique()"
   ]
  },
  {
   "cell_type": "code",
   "execution_count": 26,
   "metadata": {},
   "outputs": [],
   "source": [
    "# (Task 5) Adding an order to the grades\n",
    "\n",
    "# Making a dictionary of the grades with orders\n",
    "grade_order_dict = {\n",
    "    '1': 1, '2': 2, '3': 3, '4': 4, '5A': 5, '5B': 6, '5C': 7, '6A': 8, '6A+': 9,\n",
    "    '6B': 10, '6B+': 11, '6C': 12, '6C+': 13, '7A': 14, '7A+': 15, '7B': 16, \n",
    "    '7B+': 17, '7C': 18, '7C+': 19, '8A': 20, '8A+': 21, '8B': 22, '8B+': 23,\n",
    "    '8C': 24, '8C+': 25, '9A': 26, '9A+': 27, '9B': 28, '9B+': 29, '9C': 30\n",
    "}\n",
    "\n",
    "# Making a new list of orders\n",
    "grade_order = [grade_order_dict[x] for x in df['Grade']]\n",
    "\n",
    "# Making a new order column in the dataframe\n",
    "df[\"Grade_Order\"] = grade_order\n"
   ]
  },
  {
   "cell_type": "code",
   "execution_count": 27,
   "metadata": {},
   "outputs": [
    {
     "data": {
      "text/plain": [
       "0          1\n",
       "1          2\n",
       "2          3\n",
       "3          4\n",
       "4          5\n",
       "        ... \n",
       "1834    1835\n",
       "1835    1836\n",
       "1836    1837\n",
       "1837    1838\n",
       "1838    1839\n",
       "Name: Climb_Number, Length: 1839, dtype: int64"
      ]
     },
     "execution_count": 27,
     "metadata": {},
     "output_type": "execute_result"
    }
   ],
   "source": [
    "# Adding an index column to the dataframe\n",
    "df['Climb_Number'] = np.arange(1, len(df.Date)+1)\n",
    "df['Climb_Number']"
   ]
  },
  {
   "attachments": {},
   "cell_type": "markdown",
   "metadata": {},
   "source": [
    "### List of Tasks for Visualization\n",
    "\n",
    "1. Efficiency Rates (will require creating a new column for number of attempts required per send per grade)\n",
    "2. Comparison of attempts to sends per grade\n",
    "3. Average grade sent by Country\n",
    "4. Average grade sent by Location\n",
    "5. Overall distribution of the grades attempted (make the axes show both french and US scales)\n",
    "6. Overall distribution of the grades sent (make the axes show both french and US scales)\n",
    "7. Interactive geographic Map of Climbs "
   ]
  },
  {
   "cell_type": "code",
   "execution_count": 28,
   "metadata": {},
   "outputs": [
    {
     "data": {
      "text/plain": [
       "Index(['Date', 'Type_of_Climbing', 'Country', 'Location', 'Grade', 'Attempts',\n",
       "       'Completed', 'Repeat ', 'Terrain', 'has_crimp', 'has_sloper',\n",
       "       'has_feature', 'has_jug', 'has_dyno', 'has_balance', 'has_pinch',\n",
       "       'Grade_Order', 'Climb_Number'],\n",
       "      dtype='object')"
      ]
     },
     "execution_count": 28,
     "metadata": {},
     "output_type": "execute_result"
    }
   ],
   "source": [
    "df.columns"
   ]
  },
  {
   "cell_type": "code",
   "execution_count": 29,
   "metadata": {},
   "outputs": [],
   "source": [
    "# Sorting the dataframe by grade order\n",
    "tmp = df.sort_values(by = 'Grade_Order')"
   ]
  },
  {
   "cell_type": "code",
   "execution_count": 30,
   "metadata": {},
   "outputs": [
    {
     "data": {
      "text/plain": [
       "Text(0.5, 1.0, 'Distribution of Climbs Attempted')"
      ]
     },
     "execution_count": 30,
     "metadata": {},
     "output_type": "execute_result"
    },
    {
     "data": {
      "image/png": "[encoded data removed]",
      "text/plain": [
       "<Figure size 2000x800 with 1 Axes>"
      ]
     },
     "metadata": {},
     "output_type": "display_data"
    }
   ],
   "source": [
    "# Plotting the distribution of grades across attempts\n",
    "plt.figure(figsize = (20, 8))\n",
    "sns.histplot(data = tmp, x = 'Grade', color = 'red')\n",
    "plt.xlabel('Climbing Grades')\n",
    "plt.ylabel('Number of Climbs Attempted')\n",
    "plt.title('Distribution of Climbs Attempted', weight = 'bold', size = 22)"
   ]
  },
  {
   "cell_type": "code",
   "execution_count": 31,
   "metadata": {},
   "outputs": [
    {
     "data": {
      "text/plain": [
       "Text(0.5, 1.0, 'Distribution of Climbs Completed')"
      ]
     },
     "execution_count": 31,
     "metadata": {},
     "output_type": "execute_result"
    },
    {
     "data": {
      "image/png": "[encoded data removed]",
      "text/plain": [
       "<Figure size 2000x800 with 1 Axes>"
      ]
     },
     "metadata": {},
     "output_type": "display_data"
    }
   ],
   "source": [
    "# Plotting the distribution of grades across sends\n",
    "tmp = df.sort_values(by = 'Grade_Order')\n",
    "tmp = tmp[tmp['Completed'] == 'yes']\n",
    "plt.figure(figsize = (20, 8))\n",
    "sns.histplot(data = tmp, x = 'Grade', color = 'green')\n",
    "plt.xlabel('Climbing Grades')\n",
    "plt.ylabel('Number of Climbs Completed')\n",
    "plt.title('Distribution of Climbs Completed', weight = 'bold', size = 22)"
   ]
  },
  {
   "cell_type": "code",
   "execution_count": 32,
   "metadata": {},
   "outputs": [
    {
     "data": {
      "text/plain": [
       "Text(0, 0.5, 'Number of Attempts')"
      ]
     },
     "execution_count": 32,
     "metadata": {},
     "output_type": "execute_result"
    },
    {
     "data": {
      "image/png": "[encoded data removed]",
      "text/plain": [
       "<Figure size 2000x800 with 1 Axes>"
      ]
     },
     "metadata": {},
     "output_type": "display_data"
    }
   ],
   "source": [
    "# Scatterplot of climbs against number of attempts\n",
    "plt.figure(figsize=(20, 8))\n",
    "sns.scatterplot(data = df.sort_values(by='Grade_Order'), x = 'Grade', \\\n",
    "                y = 'Attempts', hue = 'Completed', s = 100)\n",
    "plt.ylim(0,16)\n",
    "plt.title(\"Attempts per Climb\", weight = \"bold\", size = 22)\n",
    "plt.xlabel('Climbs')\n",
    "plt.ylabel('Number of Attempts')"
   ]
  },
  {
   "cell_type": "code",
   "execution_count": 37,
   "metadata": {},
   "outputs": [
    {
     "data": {
      "text/html": [
       "<div>\n",
       "<style scoped>\n",
       "    .dataframe tbody tr th:only-of-type {\n",
       "        vertical-align: middle;\n",
       "    }\n",
       "\n",
       "    .dataframe tbody tr th {\n",
       "        vertical-align: top;\n",
       "    }\n",
       "\n",
       "    .dataframe thead th {\n",
       "        text-align: right;\n",
       "    }\n",
       "</style>\n",
       "<table border=\"1\" class=\"dataframe\">\n",
       "  <thead>\n",
       "    <tr style=\"text-align: right;\">\n",
       "      <th></th>\n",
       "      <th>Date</th>\n",
       "      <th>Type_of_Climbing</th>\n",
       "      <th>Country</th>\n",
       "      <th>Location</th>\n",
       "      <th>Grade</th>\n",
       "      <th>Attempts</th>\n",
       "      <th>Completed</th>\n",
       "      <th>Repeat</th>\n",
       "      <th>Terrain</th>\n",
       "      <th>has_sloper</th>\n",
       "      <th>has_feature</th>\n",
       "      <th>has_jug</th>\n",
       "      <th>has_dyno</th>\n",
       "      <th>has_balance</th>\n",
       "      <th>has_pinch</th>\n",
       "      <th>Grade_Order</th>\n",
       "      <th>Climb_Number</th>\n",
       "    </tr>\n",
       "    <tr>\n",
       "      <th>has_crimp</th>\n",
       "      <th></th>\n",
       "      <th></th>\n",
       "      <th></th>\n",
       "      <th></th>\n",
       "      <th></th>\n",
       "      <th></th>\n",
       "      <th></th>\n",
       "      <th></th>\n",
       "      <th></th>\n",
       "      <th></th>\n",
       "      <th></th>\n",
       "      <th></th>\n",
       "      <th></th>\n",
       "      <th></th>\n",
       "      <th></th>\n",
       "      <th></th>\n",
       "      <th></th>\n",
       "    </tr>\n",
       "  </thead>\n",
       "  <tbody>\n",
       "    <tr>\n",
       "      <th>0</th>\n",
       "      <td>1360</td>\n",
       "      <td>1360</td>\n",
       "      <td>1360</td>\n",
       "      <td>1360</td>\n",
       "      <td>1360</td>\n",
       "      <td>1360</td>\n",
       "      <td>1360</td>\n",
       "      <td>1360</td>\n",
       "      <td>1360</td>\n",
       "      <td>1360</td>\n",
       "      <td>1360</td>\n",
       "      <td>1360</td>\n",
       "      <td>1360</td>\n",
       "      <td>1360</td>\n",
       "      <td>1360</td>\n",
       "      <td>1360</td>\n",
       "      <td>1360</td>\n",
       "    </tr>\n",
       "    <tr>\n",
       "      <th>1</th>\n",
       "      <td>479</td>\n",
       "      <td>479</td>\n",
       "      <td>479</td>\n",
       "      <td>479</td>\n",
       "      <td>479</td>\n",
       "      <td>479</td>\n",
       "      <td>479</td>\n",
       "      <td>479</td>\n",
       "      <td>479</td>\n",
       "      <td>479</td>\n",
       "      <td>479</td>\n",
       "      <td>479</td>\n",
       "      <td>479</td>\n",
       "      <td>479</td>\n",
       "      <td>479</td>\n",
       "      <td>479</td>\n",
       "      <td>479</td>\n",
       "    </tr>\n",
       "  </tbody>\n",
       "</table>\n",
       "</div>"
      ],
      "text/plain": [
       "           Date  Type_of_Climbing  Country  Location  Grade  Attempts  \\\n",
       "has_crimp                                                               \n",
       "0          1360              1360     1360      1360   1360      1360   \n",
       "1           479               479      479       479    479       479   \n",
       "\n",
       "           Completed  Repeat   Terrain  has_sloper  has_feature  has_jug  \\\n",
       "has_crimp                                                                  \n",
       "0               1360     1360     1360        1360         1360     1360   \n",
       "1                479      479      479         479          479      479   \n",
       "\n",
       "           has_dyno  has_balance  has_pinch  Grade_Order  Climb_Number  \n",
       "has_crimp                                                               \n",
       "0              1360         1360       1360         1360          1360  \n",
       "1               479          479        479          479           479  "
      ]
     },
     "execution_count": 37,
     "metadata": {},
     "output_type": "execute_result"
    }
   ],
   "source": [
    "# Counting the number of climbs by crux_move_type\n",
    "df.groupby(by = 'has_crimp').count() # crimps"
   ]
  }
 ],
 "metadata": {
  "kernelspec": {
   "display_name": "lewagon",
   "language": "python",
   "name": "python3"
  },
  "language_info": {
   "codemirror_mode": {
    "name": "ipython",
    "version": 3
   },
   "file_extension": ".py",
   "mimetype": "text/x-python",
   "name": "python",
   "nbconvert_exporter": "python",
   "pygments_lexer": "ipython3",
   "version": "3.10.6"
  },
  "orig_nbformat": 4
 },
 "nbformat": 4,
 "nbformat_minor": 2
}
